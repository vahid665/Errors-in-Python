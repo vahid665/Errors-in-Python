{
 "cells": [
  {
   "cell_type": "code",
   "execution_count": 1,
   "id": "1feea488-6585-4c56-86f1-002e9979689e",
   "metadata": {},
   "outputs": [],
   "source": [
    "import numpy as np\n",
    "import pandas as pd\n",
    "from sklearn.linear_model import LinearRegression\n",
    "from sklearn.model_selection import train_test_split\n",
    "from sklearn.metrics import mean_squared_error, mean_absolute_error, mean_absolute_percentage_error"
   ]
  },
  {
   "cell_type": "code",
   "execution_count": 2,
   "id": "61675934-15e1-4e94-ac20-d48d0289b9cd",
   "metadata": {},
   "outputs": [],
   "source": [
    "data = pd.read_csv('insurance.csv')\n",
    "df = data.copy()"
   ]
  },
  {
   "cell_type": "code",
   "execution_count": 3,
   "id": "dc06b3e8-8c9e-4b6c-a05a-dbf596e36d1a",
   "metadata": {},
   "outputs": [
    {
     "data": {
      "text/html": [
       "<div>\n",
       "<style scoped>\n",
       "    .dataframe tbody tr th:only-of-type {\n",
       "        vertical-align: middle;\n",
       "    }\n",
       "\n",
       "    .dataframe tbody tr th {\n",
       "        vertical-align: top;\n",
       "    }\n",
       "\n",
       "    .dataframe thead th {\n",
       "        text-align: right;\n",
       "    }\n",
       "</style>\n",
       "<table border=\"1\" class=\"dataframe\">\n",
       "  <thead>\n",
       "    <tr style=\"text-align: right;\">\n",
       "      <th></th>\n",
       "      <th>age</th>\n",
       "      <th>sex</th>\n",
       "      <th>bmi</th>\n",
       "      <th>children</th>\n",
       "      <th>smoker</th>\n",
       "      <th>region</th>\n",
       "      <th>charges</th>\n",
       "    </tr>\n",
       "  </thead>\n",
       "  <tbody>\n",
       "    <tr>\n",
       "      <th>0</th>\n",
       "      <td>19</td>\n",
       "      <td>female</td>\n",
       "      <td>27.900</td>\n",
       "      <td>0</td>\n",
       "      <td>yes</td>\n",
       "      <td>southwest</td>\n",
       "      <td>16884.92400</td>\n",
       "    </tr>\n",
       "    <tr>\n",
       "      <th>1</th>\n",
       "      <td>18</td>\n",
       "      <td>male</td>\n",
       "      <td>33.770</td>\n",
       "      <td>1</td>\n",
       "      <td>no</td>\n",
       "      <td>southeast</td>\n",
       "      <td>1725.55230</td>\n",
       "    </tr>\n",
       "    <tr>\n",
       "      <th>2</th>\n",
       "      <td>28</td>\n",
       "      <td>male</td>\n",
       "      <td>33.000</td>\n",
       "      <td>3</td>\n",
       "      <td>no</td>\n",
       "      <td>southeast</td>\n",
       "      <td>4449.46200</td>\n",
       "    </tr>\n",
       "    <tr>\n",
       "      <th>3</th>\n",
       "      <td>33</td>\n",
       "      <td>male</td>\n",
       "      <td>22.705</td>\n",
       "      <td>0</td>\n",
       "      <td>no</td>\n",
       "      <td>northwest</td>\n",
       "      <td>21984.47061</td>\n",
       "    </tr>\n",
       "    <tr>\n",
       "      <th>4</th>\n",
       "      <td>32</td>\n",
       "      <td>male</td>\n",
       "      <td>28.880</td>\n",
       "      <td>0</td>\n",
       "      <td>no</td>\n",
       "      <td>northwest</td>\n",
       "      <td>3866.85520</td>\n",
       "    </tr>\n",
       "  </tbody>\n",
       "</table>\n",
       "</div>"
      ],
      "text/plain": [
       "   age     sex     bmi  children smoker     region      charges\n",
       "0   19  female  27.900         0    yes  southwest  16884.92400\n",
       "1   18    male  33.770         1     no  southeast   1725.55230\n",
       "2   28    male  33.000         3     no  southeast   4449.46200\n",
       "3   33    male  22.705         0     no  northwest  21984.47061\n",
       "4   32    male  28.880         0     no  northwest   3866.85520"
      ]
     },
     "execution_count": 3,
     "metadata": {},
     "output_type": "execute_result"
    }
   ],
   "source": [
    "df.head()"
   ]
  },
  {
   "cell_type": "code",
   "execution_count": 4,
   "id": "059f354e-cba8-475d-ae32-dba66f82bdde",
   "metadata": {},
   "outputs": [
    {
     "data": {
      "text/plain": [
       "(1338, 7)"
      ]
     },
     "execution_count": 4,
     "metadata": {},
     "output_type": "execute_result"
    }
   ],
   "source": [
    "df.shape"
   ]
  },
  {
   "cell_type": "code",
   "execution_count": 5,
   "id": "ede4b6ac-ce51-4a1e-9858-081de2f96aeb",
   "metadata": {},
   "outputs": [],
   "source": [
    "df = pd.get_dummies(df,columns=['sex','smoker','region'],drop_first=True) "
   ]
  },
  {
   "cell_type": "code",
   "execution_count": 6,
   "id": "a59179c1-1887-4024-b82e-4a5d043968e3",
   "metadata": {},
   "outputs": [
    {
     "data": {
      "text/html": [
       "<div>\n",
       "<style scoped>\n",
       "    .dataframe tbody tr th:only-of-type {\n",
       "        vertical-align: middle;\n",
       "    }\n",
       "\n",
       "    .dataframe tbody tr th {\n",
       "        vertical-align: top;\n",
       "    }\n",
       "\n",
       "    .dataframe thead th {\n",
       "        text-align: right;\n",
       "    }\n",
       "</style>\n",
       "<table border=\"1\" class=\"dataframe\">\n",
       "  <thead>\n",
       "    <tr style=\"text-align: right;\">\n",
       "      <th></th>\n",
       "      <th>age</th>\n",
       "      <th>bmi</th>\n",
       "      <th>children</th>\n",
       "      <th>charges</th>\n",
       "      <th>sex_male</th>\n",
       "      <th>smoker_yes</th>\n",
       "      <th>region_northwest</th>\n",
       "      <th>region_southeast</th>\n",
       "      <th>region_southwest</th>\n",
       "    </tr>\n",
       "  </thead>\n",
       "  <tbody>\n",
       "    <tr>\n",
       "      <th>0</th>\n",
       "      <td>19</td>\n",
       "      <td>27.900</td>\n",
       "      <td>0</td>\n",
       "      <td>16884.92400</td>\n",
       "      <td>False</td>\n",
       "      <td>True</td>\n",
       "      <td>False</td>\n",
       "      <td>False</td>\n",
       "      <td>True</td>\n",
       "    </tr>\n",
       "    <tr>\n",
       "      <th>1</th>\n",
       "      <td>18</td>\n",
       "      <td>33.770</td>\n",
       "      <td>1</td>\n",
       "      <td>1725.55230</td>\n",
       "      <td>True</td>\n",
       "      <td>False</td>\n",
       "      <td>False</td>\n",
       "      <td>True</td>\n",
       "      <td>False</td>\n",
       "    </tr>\n",
       "    <tr>\n",
       "      <th>2</th>\n",
       "      <td>28</td>\n",
       "      <td>33.000</td>\n",
       "      <td>3</td>\n",
       "      <td>4449.46200</td>\n",
       "      <td>True</td>\n",
       "      <td>False</td>\n",
       "      <td>False</td>\n",
       "      <td>True</td>\n",
       "      <td>False</td>\n",
       "    </tr>\n",
       "    <tr>\n",
       "      <th>3</th>\n",
       "      <td>33</td>\n",
       "      <td>22.705</td>\n",
       "      <td>0</td>\n",
       "      <td>21984.47061</td>\n",
       "      <td>True</td>\n",
       "      <td>False</td>\n",
       "      <td>True</td>\n",
       "      <td>False</td>\n",
       "      <td>False</td>\n",
       "    </tr>\n",
       "    <tr>\n",
       "      <th>4</th>\n",
       "      <td>32</td>\n",
       "      <td>28.880</td>\n",
       "      <td>0</td>\n",
       "      <td>3866.85520</td>\n",
       "      <td>True</td>\n",
       "      <td>False</td>\n",
       "      <td>True</td>\n",
       "      <td>False</td>\n",
       "      <td>False</td>\n",
       "    </tr>\n",
       "  </tbody>\n",
       "</table>\n",
       "</div>"
      ],
      "text/plain": [
       "   age     bmi  children      charges  sex_male  smoker_yes  region_northwest  \\\n",
       "0   19  27.900         0  16884.92400     False        True             False   \n",
       "1   18  33.770         1   1725.55230      True       False             False   \n",
       "2   28  33.000         3   4449.46200      True       False             False   \n",
       "3   33  22.705         0  21984.47061      True       False              True   \n",
       "4   32  28.880         0   3866.85520      True       False              True   \n",
       "\n",
       "   region_southeast  region_southwest  \n",
       "0             False              True  \n",
       "1              True             False  \n",
       "2              True             False  \n",
       "3             False             False  \n",
       "4             False             False  "
      ]
     },
     "execution_count": 6,
     "metadata": {},
     "output_type": "execute_result"
    }
   ],
   "source": [
    "df.head()"
   ]
  },
  {
   "cell_type": "code",
   "execution_count": 7,
   "id": "d0952fb6-1b42-44de-b40e-06500e8d0997",
   "metadata": {},
   "outputs": [
    {
     "data": {
      "text/html": [
       "<div>\n",
       "<style scoped>\n",
       "    .dataframe tbody tr th:only-of-type {\n",
       "        vertical-align: middle;\n",
       "    }\n",
       "\n",
       "    .dataframe tbody tr th {\n",
       "        vertical-align: top;\n",
       "    }\n",
       "\n",
       "    .dataframe thead th {\n",
       "        text-align: right;\n",
       "    }\n",
       "</style>\n",
       "<table border=\"1\" class=\"dataframe\">\n",
       "  <thead>\n",
       "    <tr style=\"text-align: right;\">\n",
       "      <th></th>\n",
       "      <th>age</th>\n",
       "      <th>bmi</th>\n",
       "      <th>children</th>\n",
       "      <th>charges</th>\n",
       "      <th>sex_male</th>\n",
       "      <th>smoker_yes</th>\n",
       "      <th>region_northwest</th>\n",
       "      <th>region_southeast</th>\n",
       "      <th>region_southwest</th>\n",
       "    </tr>\n",
       "  </thead>\n",
       "  <tbody>\n",
       "    <tr>\n",
       "      <th>0</th>\n",
       "      <td>19</td>\n",
       "      <td>27.900</td>\n",
       "      <td>0</td>\n",
       "      <td>16884.92400</td>\n",
       "      <td>False</td>\n",
       "      <td>True</td>\n",
       "      <td>False</td>\n",
       "      <td>False</td>\n",
       "      <td>True</td>\n",
       "    </tr>\n",
       "    <tr>\n",
       "      <th>1</th>\n",
       "      <td>18</td>\n",
       "      <td>33.770</td>\n",
       "      <td>1</td>\n",
       "      <td>1725.55230</td>\n",
       "      <td>True</td>\n",
       "      <td>False</td>\n",
       "      <td>False</td>\n",
       "      <td>True</td>\n",
       "      <td>False</td>\n",
       "    </tr>\n",
       "    <tr>\n",
       "      <th>2</th>\n",
       "      <td>28</td>\n",
       "      <td>33.000</td>\n",
       "      <td>3</td>\n",
       "      <td>4449.46200</td>\n",
       "      <td>True</td>\n",
       "      <td>False</td>\n",
       "      <td>False</td>\n",
       "      <td>True</td>\n",
       "      <td>False</td>\n",
       "    </tr>\n",
       "    <tr>\n",
       "      <th>3</th>\n",
       "      <td>33</td>\n",
       "      <td>22.705</td>\n",
       "      <td>0</td>\n",
       "      <td>21984.47061</td>\n",
       "      <td>True</td>\n",
       "      <td>False</td>\n",
       "      <td>True</td>\n",
       "      <td>False</td>\n",
       "      <td>False</td>\n",
       "    </tr>\n",
       "    <tr>\n",
       "      <th>4</th>\n",
       "      <td>32</td>\n",
       "      <td>28.880</td>\n",
       "      <td>0</td>\n",
       "      <td>3866.85520</td>\n",
       "      <td>True</td>\n",
       "      <td>False</td>\n",
       "      <td>True</td>\n",
       "      <td>False</td>\n",
       "      <td>False</td>\n",
       "    </tr>\n",
       "  </tbody>\n",
       "</table>\n",
       "</div>"
      ],
      "text/plain": [
       "   age     bmi  children      charges  sex_male  smoker_yes  region_northwest  \\\n",
       "0   19  27.900         0  16884.92400     False        True             False   \n",
       "1   18  33.770         1   1725.55230      True       False             False   \n",
       "2   28  33.000         3   4449.46200      True       False             False   \n",
       "3   33  22.705         0  21984.47061      True       False              True   \n",
       "4   32  28.880         0   3866.85520      True       False              True   \n",
       "\n",
       "   region_southeast  region_southwest  \n",
       "0             False              True  \n",
       "1              True             False  \n",
       "2              True             False  \n",
       "3             False             False  \n",
       "4             False             False  "
      ]
     },
     "execution_count": 7,
     "metadata": {},
     "output_type": "execute_result"
    }
   ],
   "source": [
    "df.head()"
   ]
  },
  {
   "cell_type": "code",
   "execution_count": 8,
   "id": "0a51c307-8939-431e-97c5-be63bd6f580c",
   "metadata": {},
   "outputs": [],
   "source": [
    "df['smoker_yes'] = df['smoker_yes'].astype(int)\n",
    "df['region_northwest'] = df['region_northwest'].astype(int)\n",
    "df['region_southeast'] = df['region_southeast'].astype(int)\n",
    "df['region_southwest'] = df['region_southwest'].astype(int)"
   ]
  },
  {
   "cell_type": "code",
   "execution_count": 9,
   "id": "78caeee7-5b5c-431f-b810-a29912d459a8",
   "metadata": {},
   "outputs": [
    {
     "data": {
      "text/html": [
       "<div>\n",
       "<style scoped>\n",
       "    .dataframe tbody tr th:only-of-type {\n",
       "        vertical-align: middle;\n",
       "    }\n",
       "\n",
       "    .dataframe tbody tr th {\n",
       "        vertical-align: top;\n",
       "    }\n",
       "\n",
       "    .dataframe thead th {\n",
       "        text-align: right;\n",
       "    }\n",
       "</style>\n",
       "<table border=\"1\" class=\"dataframe\">\n",
       "  <thead>\n",
       "    <tr style=\"text-align: right;\">\n",
       "      <th></th>\n",
       "      <th>age</th>\n",
       "      <th>bmi</th>\n",
       "      <th>children</th>\n",
       "      <th>charges</th>\n",
       "      <th>sex_male</th>\n",
       "      <th>smoker_yes</th>\n",
       "      <th>region_northwest</th>\n",
       "      <th>region_southeast</th>\n",
       "      <th>region_southwest</th>\n",
       "    </tr>\n",
       "  </thead>\n",
       "  <tbody>\n",
       "    <tr>\n",
       "      <th>0</th>\n",
       "      <td>19</td>\n",
       "      <td>27.900</td>\n",
       "      <td>0</td>\n",
       "      <td>16884.92400</td>\n",
       "      <td>False</td>\n",
       "      <td>1</td>\n",
       "      <td>0</td>\n",
       "      <td>0</td>\n",
       "      <td>1</td>\n",
       "    </tr>\n",
       "    <tr>\n",
       "      <th>1</th>\n",
       "      <td>18</td>\n",
       "      <td>33.770</td>\n",
       "      <td>1</td>\n",
       "      <td>1725.55230</td>\n",
       "      <td>True</td>\n",
       "      <td>0</td>\n",
       "      <td>0</td>\n",
       "      <td>1</td>\n",
       "      <td>0</td>\n",
       "    </tr>\n",
       "    <tr>\n",
       "      <th>2</th>\n",
       "      <td>28</td>\n",
       "      <td>33.000</td>\n",
       "      <td>3</td>\n",
       "      <td>4449.46200</td>\n",
       "      <td>True</td>\n",
       "      <td>0</td>\n",
       "      <td>0</td>\n",
       "      <td>1</td>\n",
       "      <td>0</td>\n",
       "    </tr>\n",
       "    <tr>\n",
       "      <th>3</th>\n",
       "      <td>33</td>\n",
       "      <td>22.705</td>\n",
       "      <td>0</td>\n",
       "      <td>21984.47061</td>\n",
       "      <td>True</td>\n",
       "      <td>0</td>\n",
       "      <td>1</td>\n",
       "      <td>0</td>\n",
       "      <td>0</td>\n",
       "    </tr>\n",
       "    <tr>\n",
       "      <th>4</th>\n",
       "      <td>32</td>\n",
       "      <td>28.880</td>\n",
       "      <td>0</td>\n",
       "      <td>3866.85520</td>\n",
       "      <td>True</td>\n",
       "      <td>0</td>\n",
       "      <td>1</td>\n",
       "      <td>0</td>\n",
       "      <td>0</td>\n",
       "    </tr>\n",
       "  </tbody>\n",
       "</table>\n",
       "</div>"
      ],
      "text/plain": [
       "   age     bmi  children      charges  sex_male  smoker_yes  region_northwest  \\\n",
       "0   19  27.900         0  16884.92400     False           1                 0   \n",
       "1   18  33.770         1   1725.55230      True           0                 0   \n",
       "2   28  33.000         3   4449.46200      True           0                 0   \n",
       "3   33  22.705         0  21984.47061      True           0                 1   \n",
       "4   32  28.880         0   3866.85520      True           0                 1   \n",
       "\n",
       "   region_southeast  region_southwest  \n",
       "0                 0                 1  \n",
       "1                 1                 0  \n",
       "2                 1                 0  \n",
       "3                 0                 0  \n",
       "4                 0                 0  "
      ]
     },
     "execution_count": 9,
     "metadata": {},
     "output_type": "execute_result"
    }
   ],
   "source": [
    "df.head()"
   ]
  },
  {
   "cell_type": "code",
   "execution_count": 10,
   "id": "f663ed72-fcfb-47b3-920c-8e6ebf5951dd",
   "metadata": {},
   "outputs": [
    {
     "data": {
      "text/plain": [
       "0.7909586859393721"
      ]
     },
     "execution_count": 10,
     "metadata": {},
     "output_type": "execute_result"
    }
   ],
   "source": [
    "Y = df['charges']\n",
    "X = df.drop('charges',axis=1)\n",
    "X_train, X_test, y_train, y_test = train_test_split(X,Y,test_size=0.25, random_state=111)\n",
    "model = LinearRegression()\n",
    "model.fit(X_train,y_train)\n",
    "model.score(X_test,y_test)"
   ]
  },
  {
   "cell_type": "code",
   "execution_count": 11,
   "id": "a00d77cc-7a8e-48f4-923f-8d0ac04559be",
   "metadata": {},
   "outputs": [],
   "source": [
    "df2 = pd.DataFrame()"
   ]
  },
  {
   "cell_type": "code",
   "execution_count": 12,
   "id": "8e94d5a2-f984-4df7-a3bb-cfe866666582",
   "metadata": {},
   "outputs": [],
   "source": [
    "df2['Y'] = Y"
   ]
  },
  {
   "cell_type": "code",
   "execution_count": 13,
   "id": "57917932-4050-42d2-a6d9-07439ce4a4f4",
   "metadata": {},
   "outputs": [],
   "source": [
    "df2['Y_pred'] = model.predict(X)  \n",
    "Y_pred = df2['Y_pred']"
   ]
  },
  {
   "cell_type": "code",
   "execution_count": 14,
   "id": "dbc4762f-bddd-455d-a26c-b17ba5a1bd87",
   "metadata": {},
   "outputs": [],
   "source": [
    "df2['Texmin_ferqi'] = df2['Y'] - df2['Y_pred']"
   ]
  },
  {
   "cell_type": "code",
   "execution_count": 15,
   "id": "89df6b5d-0e86-491a-b6a3-038c90ac44d9",
   "metadata": {},
   "outputs": [],
   "source": [
    "df2['Squared_error'] = df2['Texmin_ferqi']**2                     ###    MSE "
   ]
  },
  {
   "cell_type": "code",
   "execution_count": 16,
   "id": "36191837-f33f-4617-8822-a44e3d3a4156",
   "metadata": {},
   "outputs": [],
   "source": [
    "df2['absolute_error'] = np.abs(df2['Texmin_ferqi'])               ###    MAE"
   ]
  },
  {
   "cell_type": "code",
   "execution_count": 17,
   "id": "2ecedf63-3e12-4514-b1aa-555ffb145907",
   "metadata": {},
   "outputs": [],
   "source": [
    "df2['percent_error'] = np.abs((df2['Y']-df2['Y_pred'])/df2['Y'])  ###    MAPE"
   ]
  },
  {
   "cell_type": "code",
   "execution_count": 18,
   "id": "849b2341-7b17-498c-977d-bfda336f1a27",
   "metadata": {},
   "outputs": [
    {
     "data": {
      "text/html": [
       "<div>\n",
       "<style scoped>\n",
       "    .dataframe tbody tr th:only-of-type {\n",
       "        vertical-align: middle;\n",
       "    }\n",
       "\n",
       "    .dataframe tbody tr th {\n",
       "        vertical-align: top;\n",
       "    }\n",
       "\n",
       "    .dataframe thead th {\n",
       "        text-align: right;\n",
       "    }\n",
       "</style>\n",
       "<table border=\"1\" class=\"dataframe\">\n",
       "  <thead>\n",
       "    <tr style=\"text-align: right;\">\n",
       "      <th></th>\n",
       "      <th>Y</th>\n",
       "      <th>Y_pred</th>\n",
       "      <th>Texmin_ferqi</th>\n",
       "      <th>Squared_error</th>\n",
       "      <th>absolute_error</th>\n",
       "      <th>percent_error</th>\n",
       "    </tr>\n",
       "  </thead>\n",
       "  <tbody>\n",
       "    <tr>\n",
       "      <th>0</th>\n",
       "      <td>16884.92400</td>\n",
       "      <td>25151.652335</td>\n",
       "      <td>-8266.728335</td>\n",
       "      <td>6.833880e+07</td>\n",
       "      <td>8266.728335</td>\n",
       "      <td>0.489592</td>\n",
       "    </tr>\n",
       "    <tr>\n",
       "      <th>1</th>\n",
       "      <td>1725.55230</td>\n",
       "      <td>3481.540600</td>\n",
       "      <td>-1755.988300</td>\n",
       "      <td>3.083495e+06</td>\n",
       "      <td>1755.988300</td>\n",
       "      <td>1.017638</td>\n",
       "    </tr>\n",
       "    <tr>\n",
       "      <th>2</th>\n",
       "      <td>4449.46200</td>\n",
       "      <td>6875.451166</td>\n",
       "      <td>-2425.989166</td>\n",
       "      <td>5.885423e+06</td>\n",
       "      <td>2425.989166</td>\n",
       "      <td>0.545232</td>\n",
       "    </tr>\n",
       "    <tr>\n",
       "      <th>3</th>\n",
       "      <td>21984.47061</td>\n",
       "      <td>4273.459187</td>\n",
       "      <td>17711.011423</td>\n",
       "      <td>3.136799e+08</td>\n",
       "      <td>17711.011423</td>\n",
       "      <td>0.805615</td>\n",
       "    </tr>\n",
       "    <tr>\n",
       "      <th>4</th>\n",
       "      <td>3866.85520</td>\n",
       "      <td>5994.225469</td>\n",
       "      <td>-2127.370269</td>\n",
       "      <td>4.525704e+06</td>\n",
       "      <td>2127.370269</td>\n",
       "      <td>0.550155</td>\n",
       "    </tr>\n",
       "    <tr>\n",
       "      <th>...</th>\n",
       "      <td>...</td>\n",
       "      <td>...</td>\n",
       "      <td>...</td>\n",
       "      <td>...</td>\n",
       "      <td>...</td>\n",
       "      <td>...</td>\n",
       "    </tr>\n",
       "    <tr>\n",
       "      <th>1333</th>\n",
       "      <td>10600.54830</td>\n",
       "      <td>12877.095140</td>\n",
       "      <td>-2276.546840</td>\n",
       "      <td>5.182666e+06</td>\n",
       "      <td>2276.546840</td>\n",
       "      <td>0.214757</td>\n",
       "    </tr>\n",
       "    <tr>\n",
       "      <th>1334</th>\n",
       "      <td>2205.98080</td>\n",
       "      <td>3385.460033</td>\n",
       "      <td>-1179.479233</td>\n",
       "      <td>1.391171e+06</td>\n",
       "      <td>1179.479233</td>\n",
       "      <td>0.534673</td>\n",
       "    </tr>\n",
       "    <tr>\n",
       "      <th>1335</th>\n",
       "      <td>1629.83350</td>\n",
       "      <td>4007.269659</td>\n",
       "      <td>-2377.436159</td>\n",
       "      <td>5.652203e+06</td>\n",
       "      <td>2377.436159</td>\n",
       "      <td>1.458699</td>\n",
       "    </tr>\n",
       "    <tr>\n",
       "      <th>1336</th>\n",
       "      <td>2007.94500</td>\n",
       "      <td>1269.744754</td>\n",
       "      <td>738.200246</td>\n",
       "      <td>5.449396e+05</td>\n",
       "      <td>738.200246</td>\n",
       "      <td>0.367640</td>\n",
       "    </tr>\n",
       "    <tr>\n",
       "      <th>1337</th>\n",
       "      <td>29141.36030</td>\n",
       "      <td>37174.637257</td>\n",
       "      <td>-8033.276957</td>\n",
       "      <td>6.453354e+07</td>\n",
       "      <td>8033.276957</td>\n",
       "      <td>0.275666</td>\n",
       "    </tr>\n",
       "  </tbody>\n",
       "</table>\n",
       "<p>1338 rows × 6 columns</p>\n",
       "</div>"
      ],
      "text/plain": [
       "                Y        Y_pred  Texmin_ferqi  Squared_error  absolute_error  \\\n",
       "0     16884.92400  25151.652335  -8266.728335   6.833880e+07     8266.728335   \n",
       "1      1725.55230   3481.540600  -1755.988300   3.083495e+06     1755.988300   \n",
       "2      4449.46200   6875.451166  -2425.989166   5.885423e+06     2425.989166   \n",
       "3     21984.47061   4273.459187  17711.011423   3.136799e+08    17711.011423   \n",
       "4      3866.85520   5994.225469  -2127.370269   4.525704e+06     2127.370269   \n",
       "...           ...           ...           ...            ...             ...   \n",
       "1333  10600.54830  12877.095140  -2276.546840   5.182666e+06     2276.546840   \n",
       "1334   2205.98080   3385.460033  -1179.479233   1.391171e+06     1179.479233   \n",
       "1335   1629.83350   4007.269659  -2377.436159   5.652203e+06     2377.436159   \n",
       "1336   2007.94500   1269.744754    738.200246   5.449396e+05      738.200246   \n",
       "1337  29141.36030  37174.637257  -8033.276957   6.453354e+07     8033.276957   \n",
       "\n",
       "      percent_error  \n",
       "0          0.489592  \n",
       "1          1.017638  \n",
       "2          0.545232  \n",
       "3          0.805615  \n",
       "4          0.550155  \n",
       "...             ...  \n",
       "1333       0.214757  \n",
       "1334       0.534673  \n",
       "1335       1.458699  \n",
       "1336       0.367640  \n",
       "1337       0.275666  \n",
       "\n",
       "[1338 rows x 6 columns]"
      ]
     },
     "execution_count": 18,
     "metadata": {},
     "output_type": "execute_result"
    }
   ],
   "source": [
    "df2"
   ]
  },
  {
   "cell_type": "code",
   "execution_count": 19,
   "id": "78639053-10f9-422f-8a0d-830dcee0c3d9",
   "metadata": {},
   "outputs": [
    {
     "data": {
      "text/plain": [
       "Y                 1.327042e+04\n",
       "Y_pred            1.329908e+04\n",
       "Texmin_ferqi     -2.865422e+01\n",
       "Squared_error     3.658395e+07\n",
       "absolute_error    4.166608e+03\n",
       "percent_error     4.142143e-01\n",
       "dtype: float64"
      ]
     },
     "execution_count": 19,
     "metadata": {},
     "output_type": "execute_result"
    }
   ],
   "source": [
    "df2.mean()"
   ]
  },
  {
   "cell_type": "code",
   "execution_count": 20,
   "id": "2cc6667a-987f-4a9b-9aee-c6e1d80f7429",
   "metadata": {},
   "outputs": [
    {
     "data": {
      "text/plain": [
       "0.41421429862418996"
      ]
     },
     "execution_count": 20,
     "metadata": {},
     "output_type": "execute_result"
    }
   ],
   "source": [
    "mean_absolute_percentage_error(Y,Y_pred)"
   ]
  },
  {
   "cell_type": "code",
   "execution_count": 21,
   "id": "0166e7fb-7372-49a3-a6a5-fe2b3535acab",
   "metadata": {},
   "outputs": [
    {
     "data": {
      "text/plain": [
       "0       25151.652335\n",
       "1        3481.540600\n",
       "2        6875.451166\n",
       "3        4273.459187\n",
       "4        5994.225469\n",
       "            ...     \n",
       "1333    12877.095140\n",
       "1334     3385.460033\n",
       "1335     4007.269659\n",
       "1336     1269.744754\n",
       "1337    37174.637257\n",
       "Name: Y_pred, Length: 1338, dtype: float64"
      ]
     },
     "execution_count": 21,
     "metadata": {},
     "output_type": "execute_result"
    }
   ],
   "source": [
    "Y_pred"
   ]
  },
  {
   "cell_type": "code",
   "execution_count": 27,
   "id": "4ef22a3e-4968-48e8-b2ae-c33c557cda10",
   "metadata": {},
   "outputs": [
    {
     "data": {
      "image/png": "[encoded data removed]",
      "text/plain": [
       "<Figure size 800x800 with 2 Axes>"
      ]
     },
     "metadata": {},
     "output_type": "display_data"
    }
   ],
   "source": [
    "import matplotlib.pyplot as plt\n",
    "import seaborn as sns\n",
    "plt.figure(figsize=(8,8))\n",
    "sns.heatmap(df.corr(), annot=True, cmap='coolwarm' )\n",
    "plt.title('Correlation matrix')\n",
    "plt.show()"
   ]
  },
  {
   "cell_type": "code",
   "execution_count": 36,
   "id": "3c49b450-d0a5-404a-b7ea-8d7aee44004e",
   "metadata": {},
   "outputs": [],
   "source": [
    "y_test\n",
    "Y_pred\n",
    "a = df2['Y'] -df2['Y_pred']       #MAE"
   ]
  },
  {
   "cell_type": "code",
   "execution_count": 37,
   "id": "76adeb42-dba3-4523-9e58-bec5a77573d8",
   "metadata": {},
   "outputs": [
    {
     "data": {
      "text/plain": [
       "0       -8266.728335\n",
       "1       -1755.988300\n",
       "2       -2425.989166\n",
       "3       17711.011423\n",
       "4       -2127.370269\n",
       "            ...     \n",
       "1333    -2276.546840\n",
       "1334    -1179.479233\n",
       "1335    -2377.436159\n",
       "1336      738.200246\n",
       "1337    -8033.276957\n",
       "Length: 1338, dtype: float64"
      ]
     },
     "execution_count": 37,
     "metadata": {},
     "output_type": "execute_result"
    }
   ],
   "source": [
    "a"
   ]
  },
  {
   "cell_type": "code",
   "execution_count": 38,
   "id": "4f3c5f36-2041-4146-9259-90131f06769d",
   "metadata": {},
   "outputs": [],
   "source": [
    "y_test=[0,1,0,0,0,1,1,1,0,1,1,1]\n",
    "y_pred=[1,0,0,0,0,0,1,1,0,1,1,0]\n",
    "from sklearn.metrics import f1_score,precision_score,recall_score,fbeta_score"
   ]
  },
  {
   "cell_type": "code",
   "execution_count": 45,
   "id": "229626e7-2e03-4588-b5f5-a6e6d1e25d79",
   "metadata": {},
   "outputs": [],
   "source": [
    "pre = precision_score(y_test,y_pred)\n",
    "rec = recall_score(y_test,y_pred)\n",
    "f1 = f1_score(y_test,y_pred)\n",
    "fbeta = fbeta_score(y_test,y_pred,beta=0.5)\n",
    "fbeta2 = fbeta_score(y_test,y_pred,beta=2)"
   ]
  },
  {
   "cell_type": "code",
   "execution_count": 46,
   "id": "d55ed277-d647-4c61-8f7d-6277a67b8a3b",
   "metadata": {},
   "outputs": [
    {
     "name": "stdout",
     "output_type": "stream",
     "text": [
      "0.8 0.5714285714285714 0.6666666666666666 0.7407407407407408 0.6060606060606061\n"
     ]
    }
   ],
   "source": [
    "print(pre,rec,f1,fbeta,fbeta2)"
   ]
  },
  {
   "cell_type": "code",
   "execution_count": null,
   "id": "1377f85e-c2d8-4de6-bc03-5e1cb51e860f",
   "metadata": {},
   "outputs": [],
   "source": []
  }
 ],
 "metadata": {
  "kernelspec": {
   "display_name": "Python 3 (ipykernel)",
   "language": "python",
   "name": "python3"
  },
  "language_info": {
   "codemirror_mode": {
    "name": "ipython",
    "version": 3
   },
   "file_extension": ".py",
   "mimetype": "text/x-python",
   "name": "python",
   "nbconvert_exporter": "python",
   "pygments_lexer": "ipython3",
   "version": "3.11.7"
  }
 },
 "nbformat": 4,
 "nbformat_minor": 5
}
